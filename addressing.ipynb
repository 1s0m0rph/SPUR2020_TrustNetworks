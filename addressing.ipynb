{
 "cells": [
  {
   "cell_type": "markdown",
   "metadata": {},
   "source": [
    "Succinct addressing for list-embed that preserves ancestry information as much as possible is the idea here."
   ]
  },
  {
   "cell_type": "code",
   "execution_count": 1,
   "metadata": {},
   "outputs": [],
   "source": [
    "'''\n",
    "how many elements at the end of a are prefixing b?\n",
    "'''\n",
    "def list_end_prefix_len(la,lb):\n",
    "    ct = 0\n",
    "    for i,x in enumerate(la):\n",
    "        if lb[ct] != x:\n",
    "            ct = 0\n",
    "        else:\n",
    "            ct += 1\n",
    "    return ct\n",
    "\n",
    "'''\n",
    "a list of one number <x> reduces to <(<x>,1)>\n",
    "\t\ta list of two numbers <x,y> reduces to either\n",
    "        <(<x,y>,1)> if x!=y or <(<x>,2)> if x=y\n",
    "\t\ta list of n numbers <x0,x1...>, which reduces to <(<x0,..>,r0),...(<xk,..>,ri)>,\n",
    "        when concatenated with <y> reduces to \n",
    "\t\t\t<(<x0,..>,r0),...(<xk,..,y>,ri)> if ri = 1\n",
    "\t\t\t<(<x0,..>,r0),...(<xk,..>[:-j],ri),(<y>,j+1)> if last j elts of the xk list = y\n",
    "\t\t\t<(<x0,..>,r0),...(<xk,..>,ri),(<y>,1)> otherwise\n",
    "\t\t\t\n",
    "\t\t\tthis is then followed by a pass through \n",
    "            the list (or something smarter, maybe a hashset) \n",
    "            to determine if two subsequent lists can be merged \n",
    "            (i.e. are the same or the first is a prefix for the second)\n",
    "'''\n",
    "def reduce_num_list_rec(l):\n",
    "    if len(l) == 1:\n",
    "        return [(l,1)]\n",
    "    #start with the first two\n",
    "    x,y = l[:2]\n",
    "    lr = [[[x,y],1]] if x != y else [[[x],2]]\n",
    "    #do the rest\n",
    "    for new_num in l[2:]:\n",
    "        prev_last = lr[-1][0][-1]\n",
    "        ri = lr[-1][1]#repetition count for the previous one\n",
    "        if prev_last == new_num:\n",
    "            if len(lr[-1][0]) == 1:\n",
    "                lr[-1][1] += 1\n",
    "            else:\n",
    "                del lr[-1][0][-1]\n",
    "                lr.append([[new_num],2])\n",
    "        elif ri == 1:\n",
    "            lr[-1][0].append(new_num)\n",
    "        else:\n",
    "            lr.append([[new_num],1])\n",
    "        \n",
    "        #pass-through to check for subsequent prefixes\n",
    "        for i in range(len(lr)-1):\n",
    "            if lr[i][1] > 1:\n",
    "                continue#this will probably end up making things less efficient if we do this\n",
    "            if lr[i+1][1] > 1:\n",
    "                continue#this can make the string just wrong\n",
    "            la = lr[i][0]\n",
    "            lb = lr[i+1][0]\n",
    "            pref_len = list_end_prefix_len(la,lb)\n",
    "            if pref_len > 0:\n",
    "                #shave off those elements of a\n",
    "                new_elt = la[-pref_len:]\n",
    "                lr[i][0] = la[:-pref_len]\n",
    "                #trim b\n",
    "                lr[i+1][0] = lb[pref_len:]\n",
    "                #add in the new element\n",
    "                lr.insert(i+1,[new_elt,2])\n",
    "                if pref_len == len(la):\n",
    "                    del lr[i]\n",
    "                if pref_len == len(lb):\n",
    "                    del lr[i+2]#which has moved\n",
    "    return lr\n",
    "\n",
    "def unreduce_num_list(l):\n",
    "    lr = []\n",
    "    for seq,nreps in l:\n",
    "        lr += [x for _ in range(nreps) for x in seq]\n",
    "    return lr"
   ]
  },
  {
   "cell_type": "code",
   "execution_count": 2,
   "metadata": {},
   "outputs": [
    {
     "data": {
      "text/plain": [
       "[[[0], 3], [[12, 10, 101, 0, 1, 2, 1, 2], 1]]"
      ]
     },
     "execution_count": 2,
     "metadata": {},
     "output_type": "execute_result"
    }
   ],
   "source": [
    "reduce_num_list_rec([0,0,0,12,10,101,0,1,2,1,2])"
   ]
  },
  {
   "cell_type": "markdown",
   "metadata": {},
   "source": [
    "so this won't work I think... I have a better idea though"
   ]
  },
  {
   "cell_type": "code",
   "execution_count": 3,
   "metadata": {},
   "outputs": [],
   "source": [
    "def reduce_num_list_single(l):\n",
    "\tdef rsql_eval(rsq_lock,rseq_current_idx,nreps_this,rseq):\n",
    "\t\tif rsq_lock:\n",
    "\t\t\trsq_lock = False\n",
    "\t\t\tif rseq_current_idx != 0:  #less than a full repetition\n",
    "\t\t\t\tif nreps_this > 1:  #we got more than one, but just not an integer number\n",
    "\t\t\t\t\tlr.append([rseq,nreps_this])\n",
    "\t\t\t\t\trseq = rseq[:rseq_current_idx]\n",
    "\t\t\t\t\tnreps_this = 1\n",
    "\t\t\t\telse:  #we got less than one total -- just carry on as though we'd seen nothing repetitive\n",
    "\t\t\t\t\trseq = rseq+rseq[:rseq_current_idx]\n",
    "\t\t\telse:\n",
    "\t\t\t\tlr.append([rseq,nreps_this])\n",
    "\t\t\t\trseq = rseq[:rseq_current_idx]\n",
    "\t\t\t\tnreps_this = 1\n",
    "\t\treturn rsq_lock,rseq_current_idx,nreps_this,rseq\n",
    "\n",
    "\t#just look for repeated sequences\n",
    "\tlr = []\n",
    "\trseq = [l[0]]\n",
    "\trseq_current_idx = 0\n",
    "\tnreps_this = 1\n",
    "\trsq_lock = False\n",
    "\tfor i,x in enumerate(l[1:]):\n",
    "\t\tif (x == rseq[rseq_current_idx]) and (len(l) - i >= len(rseq)):\n",
    "\t\t\trseq_current_idx += 1\n",
    "\t\t\trsq_lock = True\n",
    "\t\t\tif rseq_current_idx == len(rseq):\n",
    "\t\t\t\trseq_current_idx = 0\n",
    "\t\t\t\tnreps_this += 1\n",
    "\t\telse:\n",
    "\t\t\trsq_lock,rseq_current_idx,nreps_this,rseq = rsql_eval(rsq_lock,rseq_current_idx,nreps_this,rseq)\n",
    "\t\t\trseq.append(x)\n",
    "\t\t\trseq_current_idx = 0\n",
    "\trsq_lock,rseq_current_idx,nreps_this,rseq = rsql_eval(rsq_lock,rseq_current_idx,nreps_this,rseq)\n",
    "\tif len(rseq) > 0:\n",
    "\t\tlr.append([rseq,nreps_this])\n",
    "\treturn lr\n",
    "\n",
    "def reduce_num_list(l):\n",
    "\t#do the single thing for each starting point of each list we get\n",
    "\tlr = []\n",
    "\tlq = [l]\n",
    "\twhile len(lq) > 0:\n",
    "\t\tlt = lq.pop(0)\n",
    "\t\tlrt = reduce_num_list_single(lt)\n",
    "\t\tif len(lrt[0][0]) == len(lt):#no reductions\n",
    "\t\t\tif len(lrt[0][0]) == 1:\n",
    "\t\t\t\tlr.append([lrt[0][0],lrt[0][1]])\n",
    "\t\t\telse:\n",
    "\t\t\t\tlr.append([[lrt[0][0][0]],1])\n",
    "\t\t\t\tlq.append(lrt[0][0][1:])\n",
    "\t\telse:\n",
    "\t\t\t#find long, single-repeated lists, add them to the queue\n",
    "\t\t\tfor rseq,nreps in lrt:\n",
    "\t\t\t\tif (nreps == 1) and (len(rseq) > 1):\n",
    "\t\t\t\t\tlq.append(rseq)\n",
    "\t\t\t\telse:\n",
    "\t\t\t\t\tlr.append([rseq,nreps])\n",
    "\t#recombine singletons\n",
    "\tlr_final = [lr[0]]\n",
    "\tfor i in range(1,len(lr)):\n",
    "\t\tif (lr[i][1] == 1) and (lr_final[-1][1] == 1):\n",
    "\t\t\tlr_final.append([lr_final[-1][0] + lr[i][0],1])\n",
    "\t\t\tdel lr_final[-2]#this is i-1\n",
    "\t\telse:\n",
    "\t\t\tlr_final.append(lr[i])\n",
    "\treturn lr_final"
   ]
  },
  {
   "cell_type": "code",
   "execution_count": 4,
   "metadata": {},
   "outputs": [
    {
     "data": {
      "text/plain": [
       "[[[0], 3], [[12, 10, 101, 0], 1], [[1, 2], 2]]"
      ]
     },
     "execution_count": 4,
     "metadata": {},
     "output_type": "execute_result"
    }
   ],
   "source": [
    "reduce_num_list([0,0,0,12,10,101,0,1,2,1,2])"
   ]
  },
  {
   "cell_type": "code",
   "execution_count": 5,
   "metadata": {
    "scrolled": true
   },
   "outputs": [
    {
     "data": {
      "text/plain": [
       "[0,\n",
       " 1,\n",
       " 9,\n",
       " 1,\n",
       " 10,\n",
       " 8,\n",
       " 9,\n",
       " 10,\n",
       " 5,\n",
       " 8,\n",
       " 10,\n",
       " 5,\n",
       " 9,\n",
       " 4,\n",
       " 6,\n",
       " 7,\n",
       " 7,\n",
       " 4,\n",
       " 3,\n",
       " 7,\n",
       " 6,\n",
       " 8,\n",
       " 1,\n",
       " 2,\n",
       " 7,\n",
       " 0,\n",
       " 8,\n",
       " 9,\n",
       " 4,\n",
       " 1,\n",
       " 6,\n",
       " 6,\n",
       " 9,\n",
       " 7,\n",
       " 4,\n",
       " 9,\n",
       " 4,\n",
       " 7,\n",
       " 10,\n",
       " 7,\n",
       " 7,\n",
       " 10,\n",
       " 4,\n",
       " 0,\n",
       " 8,\n",
       " 7,\n",
       " 7,\n",
       " 8,\n",
       " 1,\n",
       " 6]"
      ]
     },
     "execution_count": 5,
     "metadata": {},
     "output_type": "execute_result"
    }
   ],
   "source": [
    "import random\n",
    "lt = [random.randint(0,10) for _ in range(50)]\n",
    "lt"
   ]
  },
  {
   "cell_type": "code",
   "execution_count": 6,
   "metadata": {},
   "outputs": [
    {
     "data": {
      "text/plain": [
       "[[[0, 1, 9, 1, 10, 8, 9, 10, 5, 8, 10, 5, 9, 4, 6], 1],\n",
       " [[7], 2],\n",
       " [[4, 3, 7, 6, 8, 1, 2, 7, 0, 8, 9, 4, 1], 1],\n",
       " [[6], 2],\n",
       " [[9, 7, 4, 9, 4, 7, 10], 1],\n",
       " [[7], 2],\n",
       " [[10, 4, 0, 8], 1],\n",
       " [[7], 2],\n",
       " [[8, 1, 6], 1]]"
      ]
     },
     "execution_count": 6,
     "metadata": {},
     "output_type": "execute_result"
    }
   ],
   "source": [
    "red = reduce_num_list(lt)\n",
    "unred = unreduce_num_list(red)\n",
    "assert(unred == lt)\n",
    "red"
   ]
  },
  {
   "cell_type": "markdown",
   "metadata": {},
   "source": [
    "Alright... seems to work. how about the encoding?"
   ]
  },
  {
   "cell_type": "code",
   "execution_count": 13,
   "metadata": {},
   "outputs": [
    {
     "data": {
      "text/plain": [
       "[[[0, 1, 9, 1, 10, 8, 9, 10, 5, 8, 10, 5, 9, 4, 6], 1],\n",
       " [[7], 2],\n",
       " [[4, 3, 7, 6, 8, 1, 2, 7, 0, 8, 9, 4, 1], 1],\n",
       " [[6], 2],\n",
       " [[9, 7, 4, 9, 4, 7, 10], 1],\n",
       " [[7], 2],\n",
       " [[10, 4, 0, 8], 1],\n",
       " [[7], 2],\n",
       " [[8, 1, 6], 1]]"
      ]
     },
     "execution_count": 13,
     "metadata": {},
     "output_type": "execute_result"
    }
   ],
   "source": [
    "rrs_unformatted_all(red)"
   ]
  },
  {
   "cell_type": "code",
   "execution_count": 12,
   "metadata": {},
   "outputs": [
    {
     "data": {
      "text/plain": [
       "[[[0, 1, 2, 1, 0, 2, 1, 2, 0], 1], [[512], 1], [[0, 1, 2, 1], 1]]"
      ]
     },
     "execution_count": 12,
     "metadata": {},
     "output_type": "execute_result"
    }
   ],
   "source": [
    "rrs_unformatted_all([[[0,1,2,1,0,2,1,2,0,512,0,1,2,1],1]])"
   ]
  },
  {
   "cell_type": "code",
   "execution_count": 11,
   "metadata": {},
   "outputs": [],
   "source": [
    "'''\n",
    "unreduction for efficiency's sake\n",
    "'''\n",
    "\n",
    "'''\n",
    "do the rrs unreduction on all eligible lists\n",
    "'''\n",
    "def rrs_unformatted_all(l):\n",
    "    red_lists = [(x[0],i) for i,x in enumerate(l) if (x[1] == 1) and (len(x[0]) > 1)]\n",
    "    nwidth_w = w(max([w(x) for rsq,_ in l for x in rsq]))\n",
    "    rsq_w = max([w(len(rsq)) for rsq,_ in l])\n",
    "    cumulative_ins_shift = 0\n",
    "    for rl,ins_idx in red_lists:\n",
    "        rlw = [w(x) for x in rl]\n",
    "        #reduce\n",
    "        rls = recursive_redlist_split(rl,nwidth_w,rsq_w,rlw=rlw)\n",
    "#         print(rls)\n",
    "#         print()\n",
    "        if len(rl) > 1:\n",
    "            #insert the new ones first\n",
    "            for nrl in reversed(rls):\n",
    "                l.insert(ins_idx+1+cumulative_ins_shift,[nrl,1])\n",
    "#                 print(l)\n",
    "            del l[ins_idx+cumulative_ins_shift]#get rid of the old one\n",
    "            cumulative_ins_shift += len(rls) - 1\n",
    "    return l\n",
    "            \n",
    "\n",
    "'''\n",
    "rl should just be a list of numbers -- this should only be called on no-repeat runs\n",
    "'''\n",
    "def recursive_redlist_split(rl,nwidth_w,rsq_w,rlw=None):\n",
    "    if rlw is None:\n",
    "        rlw = [w(x) for x in rl]\n",
    "    split_max_val = -float('inf')\n",
    "    split_max_left = None\n",
    "    split_max_right = None\n",
    "    \n",
    "    for l in range(len(rl)):\n",
    "        for r in range(l+2,len(rl)):\n",
    "            run_left = rlw[:l+1]\n",
    "            run_center = rlw[l+1:r]\n",
    "            run_right = rlw[r:]\n",
    "            w_c = max(run_center)\n",
    "            w_l = max(run_left)\n",
    "            w_r = max(run_right)\n",
    "            g_1 = sum([1 if len(x) > 1 else 0 for x in [run_left,run_center,run_right]])\n",
    "            e_1 = sum([1 if len(x) == 1 else 0 for x in [run_left,run_center,run_right]])\n",
    "            split_val = (w_c - w_l)*(l+1) + (w_c - w_r)*(len(rl)-r) - ((2 + nwidth_w)*(g_1 + e_1) + rsq_w*g_1)\n",
    "#             print(w_c,w_l,w_r,g_1,e_1,l,r,split_val)\n",
    "            if split_val > split_max_val:\n",
    "                split_max_val = split_val\n",
    "                split_max_left = l\n",
    "                split_max_right = r\n",
    "                \n",
    "    if split_max_val > 0:\n",
    "        leftlist = recursive_redlist_split(rl[:split_max_left+1],nwidth_w,rsq_w,rlw[:split_max_left+1])\n",
    "        centerlist = recursive_redlist_split(rl[split_max_left+1:split_max_right],nwidth_w,rsq_w,rlw[split_max_left+1:split_max_right])\n",
    "        rightlist = recursive_redlist_split(rl[split_max_right:],nwidth_w,rsq_w,rlw[split_max_right:])\n",
    "        return leftlist + centerlist + rightlist\n",
    "    else:\n",
    "        return [rl]#put it in another list to preserve split locations\n"
   ]
  },
  {
   "cell_type": "code",
   "execution_count": 10,
   "metadata": {},
   "outputs": [],
   "source": [
    "import math\n",
    "\n",
    "def tbw(n,w):#to binary with width\n",
    "        return bin(n)[2:].zfill(w)\n",
    "def w(n):\n",
    "    return len(bin(n)) - 2\n",
    "\n",
    "'''\n",
    "5 bits: width of number width (w)\n",
    "5 bits: repetition width (r)\n",
    "5 bits: length of repeated sequence width (l)\n",
    "<given a reduced-length list with repeating number sequences (s')> #how do we do this?\n",
    "for each (sequence,nreps) in s':\n",
    "    1 bit: contains any repetition (1) or not (0) <this is set by nreps > 1>\n",
    "    1 bit: contains multiple numbers (1) or not (0)\n",
    "    w bits: number width for this sequence (t)\n",
    "    <if multiple numbers is set>\n",
    "        l bits: length of repeated sequence\n",
    "    for each number in sequence:\n",
    "        t bits: the number\n",
    "    <if repetition bit is set>\n",
    "        r bits: nreps\n",
    "'''\n",
    "def encode_num_list(l,unreduce=True):\n",
    "    #reduce the list\n",
    "    lred = reduce_num_list(l)\n",
    "    #unreduce the good bits\n",
    "    if unreduce:\n",
    "        lred = rrs_unformatted_all(lred)\n",
    "    nwidth_w = w(max([w(x) for rsq,_ in lred for x in rsq]))\n",
    "    rep_w = max([w(x) for _,x in lred])\n",
    "    rsq_w = max([w(len(rsq)) for rsq,_ in lred])\n",
    "    enc_st = ''.join([tbw(x,5) for x in [nwidth_w,rep_w,rsq_w]])\n",
    "    \n",
    "    for seq,nreps in lred:\n",
    "        if nreps > 1:\n",
    "            enc_st += '1'\n",
    "        else:\n",
    "            enc_st += '0'\n",
    "        if len(seq) > 1:\n",
    "            enc_st += '1'\n",
    "        else:\n",
    "            enc_st += '0'\n",
    "        this_numw = max([w(x) for x in seq])\n",
    "        enc_st += tbw(this_numw,nwidth_w)\n",
    "        if len(seq) > 1:\n",
    "            enc_st += tbw(len(seq),rsq_w)\n",
    "        for num in seq:\n",
    "            enc_st += tbw(num,this_numw)\n",
    "        if nreps > 1:\n",
    "            enc_st += tbw(nreps,rep_w)\n",
    "            \n",
    "    return enc_st"
   ]
  },
  {
   "cell_type": "code",
   "execution_count": 53,
   "metadata": {},
   "outputs": [
    {
     "name": "stdout",
     "output_type": "stream",
     "text": [
      "[[[0], 3], [[12, 10, 101, 0], 1], [[1, 2], 2]]\n"
     ]
    },
    {
     "data": {
      "text/plain": [
       "'0001100010000111000101101111100000110000010101100101000000011010010011010'"
      ]
     },
     "execution_count": 53,
     "metadata": {},
     "output_type": "execute_result"
    }
   ],
   "source": [
    "encode_num_list([0,0,0,12,10,101,0,1,2,1,2])"
   ]
  },
  {
   "cell_type": "code",
   "execution_count": 14,
   "metadata": {},
   "outputs": [
    {
     "data": {
      "text/plain": [
       "'00100000010010001001010010001100100100110000010101000000000010010010000011001'"
      ]
     },
     "execution_count": 14,
     "metadata": {},
     "output_type": "execute_result"
    }
   ],
   "source": [
    "encode_num_list([0,1,2,1,0,2,1,2,0,512,0,1,2,1])"
   ]
  },
  {
   "cell_type": "code",
   "execution_count": 15,
   "metadata": {},
   "outputs": [
    {
     "data": {
      "text/plain": [
       "'001000000100100011010111000000000000000000001000000001000000000010000000000000000001000000000010000000010000000000010000000000000000000000000000100000000100000000001'"
      ]
     },
     "execution_count": 15,
     "metadata": {},
     "output_type": "execute_result"
    }
   ],
   "source": [
    "encode_num_list([0,1,2,1,0,2,1,2,0,512,0,1,2,1],unreduce=False)"
   ]
  },
  {
   "cell_type": "markdown",
   "metadata": {},
   "source": [
    "damn"
   ]
  },
  {
   "cell_type": "code",
   "execution_count": 16,
   "metadata": {},
   "outputs": [
    {
     "name": "stdout",
     "output_type": "stream",
     "text": [
      "unreduced: 7.970\n",
      "not unreduced: 8.012\n"
     ]
    }
   ],
   "source": [
    "lt = [random.randint(0,128) for _ in range(500)]\n",
    "print('unreduced: {:.3f}'.format(len(encode_num_list(lt))/len(lt)))\n",
    "print('not unreduced: {:.3f}'.format(len(encode_num_list(lt,unreduce=False))/len(lt)))"
   ]
  },
  {
   "cell_type": "markdown",
   "metadata": {},
   "source": [
    "More precisely we seem to be getting $\\Theta(\\lg(k^*)N)$ bits per, so like the $N\\lg(N)$ scenario we'd thought up before. This isn't really surprising since purely random data *should* be high entropy."
   ]
  },
  {
   "cell_type": "markdown",
   "metadata": {},
   "source": [
    "Also it's kind of unsurprising that unreduction makes little difference on data like this -- super high entropy stuff is no more likely to have a wide number next to a little number than it is to have a wide number next to many wide numbers"
   ]
  },
  {
   "cell_type": "markdown",
   "metadata": {},
   "source": [
    "All that said, let's look at a power law list instead."
   ]
  },
  {
   "cell_type": "code",
   "execution_count": 268,
   "metadata": {},
   "outputs": [
    {
     "data": {
      "text/plain": [
       "([5,\n",
       "  166,\n",
       "  85,\n",
       "  7,\n",
       "  107,\n",
       "  0,\n",
       "  185,\n",
       "  32,\n",
       "  7,\n",
       "  30,\n",
       "  243,\n",
       "  61,\n",
       "  211,\n",
       "  170,\n",
       "  3,\n",
       "  28,\n",
       "  78,\n",
       "  65,\n",
       "  50,\n",
       "  12],\n",
       " 5000)"
      ]
     },
     "execution_count": 268,
     "metadata": {},
     "output_type": "execute_result"
    }
   ],
   "source": [
    "addr_len = 500\n",
    "addr_maxval = 2048 #this is k*\n",
    "# addr_zeroprob = 0.5 #prob of link in address chain being zero (if we want a real distribution we have to let this be implicitly defined)\n",
    "addr_decay_rate = 0.99 #how much less likely is number x+1 than x?\n",
    "addr_zeroprob = (addr_decay_rate-1)/(addr_decay_rate**(addr_maxval+1)-1)\n",
    "lt_pl_probs = [addr_zeroprob*(addr_decay_rate**x) for x in range(addr_maxval)]\n",
    "lt_powerlaw = random.choices(list(range(addr_maxval)),weights=lt_pl_probs,k=addr_len)\n",
    "lt_powerlaw[:20],len(lt_powerlaw)"
   ]
  },
  {
   "cell_type": "code",
   "execution_count": 269,
   "metadata": {},
   "outputs": [
    {
     "name": "stdout",
     "output_type": "stream",
     "text": [
      "unreduced: 46048 (ratio: 9.210)\n",
      "not unreduced: 48484 (ratio: 9.697)\n"
     ]
    }
   ],
   "source": [
    "unred = encode_num_list(lt_powerlaw)\n",
    "print('unreduced: {} (ratio: {:.3f})'.format(len(unred),len(unred)/len(lt_powerlaw)))\n",
    "red = encode_num_list(lt_powerlaw,unreduce=False)\n",
    "print('not unreduced: {} (ratio: {:.3f})'.format(len(red),len(red)/len(lt_powerlaw)))\n",
    "\n",
    "if len(unred) > len(red):\n",
    "    print('MEGAWAT: unreduced resulted in longer output')"
   ]
  },
  {
   "cell_type": "markdown",
   "metadata": {},
   "source": [
    "aight for some reason this sometimes does stupid things (unreduced being longer) which I think is because of some mysterious bug in the code (which I *believe* I've fixed -- it had to do with how new split lists were being inserted) but as a proof of concept I think it works: unreduction significantly reduces the size of inputs in certain distributions (and, in **theory** can't increase them), and our performance is better on powerlaw distributions (but not *much* better :E), as we should expect."
   ]
  },
  {
   "cell_type": "code",
   "execution_count": 242,
   "metadata": {},
   "outputs": [
    {
     "data": {
      "text/plain": [
       "[[[5, 0, 6, 7, 8, 0, 37, 10, 15, 4, 0, 7, 11, 2, 14, 0, 3], 1],\n",
       " [[4], 2],\n",
       " [[20,\n",
       "   1,\n",
       "   9,\n",
       "   23,\n",
       "   0,\n",
       "   50,\n",
       "   2,\n",
       "   3,\n",
       "   4,\n",
       "   2,\n",
       "   5,\n",
       "   19,\n",
       "   20,\n",
       "   6,\n",
       "   1,\n",
       "   9,\n",
       "   19,\n",
       "   18,\n",
       "   6,\n",
       "   3,\n",
       "   6,\n",
       "   1,\n",
       "   7,\n",
       "   11,\n",
       "   0,\n",
       "   7,\n",
       "   2,\n",
       "   19,\n",
       "   2,\n",
       "   17,\n",
       "   2],\n",
       "  1]]"
      ]
     },
     "execution_count": 242,
     "metadata": {},
     "output_type": "execute_result"
    }
   ],
   "source": [
    "#here's an example of a list that breaks unreduction for some reason\n",
    "pl_unred_breaker = lt_powerlaw\n",
    "reduce_num_list(pl_unred_breaker)"
   ]
  },
  {
   "cell_type": "code",
   "execution_count": 250,
   "metadata": {},
   "outputs": [
    {
     "data": {
      "text/plain": [
       "True"
      ]
     },
     "execution_count": 250,
     "metadata": {},
     "output_type": "execute_result"
    }
   ],
   "source": [
    "unreduce_num_list(rrs_unformatted_all(reduce_num_list(pl_unred_breaker))) == pl_unred_breaker"
   ]
  },
  {
   "cell_type": "markdown",
   "metadata": {},
   "source": [
    "Think I fixed it."
   ]
  },
  {
   "cell_type": "markdown",
   "metadata": {},
   "source": [
    "## What about combining dyadic and list addressing schemes?"
   ]
  },
  {
   "cell_type": "code",
   "execution_count": 17,
   "metadata": {},
   "outputs": [],
   "source": [
    "from Embedding import *"
   ]
  },
  {
   "cell_type": "code",
   "execution_count": 94,
   "metadata": {},
   "outputs": [],
   "source": [
    "class dyadic(n_adic):\n",
    "    \n",
    "    def __init__(self,a:int,d:int,n_adic_reduce=True):\n",
    "        super().__init__(a,2,d,n_adic_reduce)\n",
    "        \n",
    "    def conv_to_addr_list(self):\n",
    "        current = self\n",
    "        addr_list = []\n",
    "        while current != dyadic(1,0):\n",
    "            par = current + dyadic(1,current.exp)\n",
    "            current_idx = current.exp - par.exp - 1\n",
    "            addr_list.append(current_idx)\n",
    "            current = par\n",
    "        return list(reversed(addr_list))\n",
    "    \n",
    "    def __repr__(self):\n",
    "        if self.exp > 10:\n",
    "            return '{}/2^{}'.format(self.numerator,self.exp)\n",
    "        return super().__repr__()"
   ]
  },
  {
   "cell_type": "code",
   "execution_count": 91,
   "metadata": {},
   "outputs": [],
   "source": [
    "def conv_addr_list_to_dyadic(al):\n",
    "    acc = dyadic(1,0)\n",
    "    prev_exp = 0\n",
    "    for i,x in enumerate(al):\n",
    "        n_exp = x+prev_exp+1\n",
    "        acc -= dyadic(1,n_exp)\n",
    "        prev_exp = n_exp\n",
    "    return acc\n"
   ]
  },
  {
   "cell_type": "code",
   "execution_count": 99,
   "metadata": {},
   "outputs": [],
   "source": [
    "#quick test\n",
    "max_exp = 100\n",
    "for _ in range(10000):\n",
    "    e = random.randint(1,max_exp)\n",
    "    a = random.randint(0,(2**(e-1))-1)*2+1\n",
    "    d_expected = dyadic(a,e)\n",
    "    l_got = d_expected.conv_to_addr_list()\n",
    "    d_got = conv_addr_list_to_dyadic(l_got)\n",
    "    assert(d_got == d_expected)"
   ]
  },
  {
   "cell_type": "markdown",
   "metadata": {},
   "source": [
    "Seems to be consistent at least"
   ]
  },
  {
   "cell_type": "code",
   "execution_count": 100,
   "metadata": {},
   "outputs": [
    {
     "data": {
      "text/plain": [
       "77"
      ]
     },
     "execution_count": 100,
     "metadata": {},
     "output_type": "execute_result"
    }
   ],
   "source": [
    "wack_list = [0,1,2,1,0,2,1,2,0,512,0,1,2,1]\n",
    "len(encode_num_list(wack_list))"
   ]
  },
  {
   "cell_type": "markdown",
   "metadata": {},
   "source": [
    "So as we're doing it now this gets us 77 bits. What if we encoded the section up to 512 as a dyadic, encoded 512 as a number in itself, and encoded the rest as a dyadic? This would give us the list:"
   ]
  },
  {
   "cell_type": "code",
   "execution_count": 106,
   "metadata": {},
   "outputs": [
    {
     "data": {
      "text/plain": [
       "[92589/262144, 512, 91/256]"
      ]
     },
     "execution_count": 106,
     "metadata": {},
     "output_type": "execute_result"
    }
   ],
   "source": [
    "[conv_addr_list_to_dyadic([0,1,2,1,0,2,1,2,0]),512,conv_addr_list_to_dyadic([0,1,2,1])]"
   ]
  },
  {
   "cell_type": "markdown",
   "metadata": {},
   "source": [
    "Which can be encoded in 71 bits (likely not optimal, and changing the standard up a bit) as:\n",
    "\n",
    "`0_1,16_7,5_3,46294_16,18_5, 1_1,10_5,0_1,0_1,512_10, 0_1,6_7,4_3,91_6,9_4`"
   ]
  },
  {
   "cell_type": "code",
   "execution_count": 191,
   "metadata": {},
   "outputs": [],
   "source": [
    "def encode_dyadic(x,awidth_bits=7,ewidth_bits=3):\n",
    "    #first width(a) and width(e)\n",
    "    wa = w(x.numerator >> 1)\n",
    "    we = w(x.exp)\n",
    "    rst = tbw(wa,awidth_bits) + tbw(we,ewidth_bits)\n",
    "    #then the numbers\n",
    "    rst += tbw(x.numerator >> 1,wa) + tbw(x.exp,we)\n",
    "    return rst\n",
    "\n",
    "def decode_dyadic(rst,awidth_bits=7,ewidth_bits=3):\n",
    "    wa = int(rst[:awidth_bits],base=2)\n",
    "    rst = rst[awidth_bits:]\n",
    "    we = int(rst[:ewidth_bits],base=2)\n",
    "    rst = rst[ewidth_bits:]\n",
    "    a = (int(rst[:wa],base=2) << 1) + 1\n",
    "    rst = rst[wa:]\n",
    "    e = int(rst[:we],base=2)\n",
    "    rst = rst[we:]\n",
    "    return dyadic(a,e),rst"
   ]
  },
  {
   "cell_type": "code",
   "execution_count": 139,
   "metadata": {},
   "outputs": [
    {
     "name": "stdout",
     "output_type": "stream",
     "text": [
      "0010000101101101001101011010010\n",
      "92589/2^18\n"
     ]
    }
   ],
   "source": [
    "x = dyadic(92589,18)\n",
    "enc = encode_dyadic(x)\n",
    "print(enc)\n",
    "dec = decode_dyadic(enc)\n",
    "print(dec)\n",
    "assert(dec == x)"
   ]
  },
  {
   "cell_type": "code",
   "execution_count": 140,
   "metadata": {},
   "outputs": [
    {
     "data": {
      "text/plain": [
       "(31, 41)"
      ]
     },
     "execution_count": 140,
     "metadata": {},
     "output_type": "execute_result"
    }
   ],
   "source": [
    "len(encode_dyadic(x)),len(encode_num_list(x.conv_to_addr_list()))"
   ]
  },
  {
   "cell_type": "markdown",
   "metadata": {},
   "source": [
    "idea for an encoding standard:\n",
    "\n",
    "```\n",
    "1 bit: dyadic (0) block or RLE (1) block\n",
    "if dyadic:\n",
    "    7 bits: width(numerator) [w_a]\n",
    "    3 bits: width(exp) [w_e]\n",
    "    1 bit: repetition present\n",
    "    w_a bits: numerator\n",
    "    w_e bits: exp\n",
    "    if repetition present:\n",
    "        5 bits: nreps\n",
    "if RLE:\n",
    "    5 bits: number width (w_n)\n",
    "    1 bit: repetition present (1) or not (0)\n",
    "    1 bit: multiple numbers (1) or not (0)\n",
    "    if multiple numbers:\n",
    "        5 bits: length of sq width (w_l)\n",
    "        w_l bits: length of run\n",
    "    for each number in the sequence:\n",
    "        w_n bits: the number\n",
    "    if repetition present:\n",
    "        5 bits: repetition width (w_r)\n",
    "        w_r bits: nreps\n",
    "repeat all until finished\n",
    "```\n",
    "\n",
    "this gives us 11 bits of overhead for each dyadic, 8 for each RLE (plus up to 10 more for a total of 18)"
   ]
  },
  {
   "cell_type": "code",
   "execution_count": 188,
   "metadata": {},
   "outputs": [],
   "source": [
    "def encode_dyadic_with_repetition(x,rep,awidth_bits=7,ewidth_bits=3,rwidth_bits=5):\n",
    "    rst = encode_dyadic(x,awidth_bits,ewidth_bits)\n",
    "    rst = rst[:awidth_bits+ewidth_bits] + ('1' if rep > 1 else '0') + rst[awidth_bits+ewidth_bits:]\n",
    "    if rep > 1:\n",
    "        rst += tbw(rep,rwidth_bits)\n",
    "    return rst\n",
    "\n",
    "def decode_dyadic_with_repetition(cst,awidth_bits=7,ewidth_bits=3,rwidth_bits=5):\n",
    "    #take out the repetition bit first\n",
    "    rep_bit = cst[awidth_bits+ewidth_bits]\n",
    "    cst = cst[:awidth_bits+ewidth_bits] + cst[awidth_bits+ewidth_bits+1:]\n",
    "    #convert normally\n",
    "    rl,cst = decode_dyadic(cst,awidth_bits,ewidth_bits)\n",
    "    rl = rl.conv_to_addr_list()\n",
    "    if rep_bit == '1':\n",
    "        rep = int(cst[:rwidth_bits],base=2)\n",
    "        cst = cst[rwidth_bits:]\n",
    "    else:\n",
    "        rep = 1\n",
    "    #repeat\n",
    "    while rep > 1:\n",
    "        rl += rl.copy()\n",
    "        rep -= 1\n",
    "    return rl,cst"
   ]
  },
  {
   "cell_type": "code",
   "execution_count": 189,
   "metadata": {},
   "outputs": [],
   "source": [
    "def RLE_encode_v2(l,rep,width_bits=5):\n",
    "    num_w = w(max(l))\n",
    "    rst = tbw(num_w,width_bits)\n",
    "    rep_present = rep > 1\n",
    "    rst += '1' if rep_present else '0'\n",
    "    mul_nums = len(l) > 1\n",
    "    rst += '1' if mul_nums else '0'\n",
    "    if mul_nums:\n",
    "        rst += tbw(w(len(l)),width_bits)\n",
    "        rst += tbw(len(l),w(len(l)))\n",
    "    for num in l:\n",
    "        rst += tbw(num,num_w)\n",
    "    if rep_present:\n",
    "        rst += tbw(w(rep),width_bits)\n",
    "        rst += tbw(rep,w(rep))\n",
    "    return rst\n",
    "\n",
    "def RLE_decode_v2(cst,width_bits=5):\n",
    "    num_w = int(cst[:width_bits],base=2)\n",
    "    cst = cst[width_bits:]\n",
    "    rep_present = cst[0] == '1'\n",
    "    mul_nums = cst[1] == '1'\n",
    "    cst = cst[2:]\n",
    "    if mul_nums:\n",
    "        len_w = cst[:width_bits]\n",
    "        cst = cst[width_bits:]\n",
    "        num_ct = cst[:len_w]\n",
    "        cst = cst[len_w:]\n",
    "    else:\n",
    "        num_ct = 1\n",
    "    l = []\n",
    "    for _ in range(num_ct):\n",
    "        num_this = int(cst[:num_w],base=2)\n",
    "        cst = cst[num_w:]\n",
    "        l.append(num_this)\n",
    "    if rep_present:\n",
    "        rep_w = int(cst[:width_bits],base=2)\n",
    "        cst = cst[width_bits:]\n",
    "        rep = int(cst[:rep_w],base=2)\n",
    "    else:\n",
    "        rep = 1\n",
    "    \n",
    "    while rep > 1:\n",
    "        l += l.copy()\n",
    "        rep -= 1\n",
    "    \n",
    "    return l,cst\n",
    "    \n",
    "\n",
    "def hybrid_encode(l):\n",
    "    #reduce the list\n",
    "    lred = reduce_num_list(l)\n",
    "    #unreduce the good bits\n",
    "    lred = rrs_unformatted_all(lred)\n",
    "    #encode each segment as dyadic and list, then pick the better one (lazy method)\n",
    "    dys = [encode_dyadic_with_repetition(conv_addr_list_to_dyadic(lt),rep) for lt,rep in lred]\n",
    "    rles = [RLE_encode_v2(lt,rep) for lt,rep in lred]\n",
    "    rst = ''\n",
    "    for dy,rle in zip(dys,rles):\n",
    "        if len(dy) < len(rle):\n",
    "            print('dy',dy)\n",
    "            rst += '1'#this is a dyadic block\n",
    "            rst += dy\n",
    "        else:\n",
    "            print('rle',rle)\n",
    "            rst += '0'#this is an RLE block\n",
    "            rst += rle\n",
    "    return rst\n",
    "\n",
    "def hybrid_decode(cst):\n",
    "    l = []\n",
    "    while len(cst) > 0:\n",
    "        print(cst)\n",
    "        dyadic_block = cst[0] == '1'\n",
    "        cst = cst[1:]\n",
    "        if dyadic_block:\n",
    "            l_add,cst = decode_dyadic_with_repetition(cst)\n",
    "            l += l_add\n",
    "        else:\n",
    "            l_add,cst = RLE_decode_v2(cst)\n",
    "            l += l_add\n",
    "    return l"
   ]
  },
  {
   "cell_type": "code",
   "execution_count": 197,
   "metadata": {},
   "outputs": [
    {
     "name": "stdout",
     "output_type": "stream",
     "text": [
      "dy 00100001010101101001101011010010\n",
      "rle 01010001000000000\n",
      "dy 000011010001011011000\n"
     ]
    },
    {
     "data": {
      "text/plain": [
       "73"
      ]
     },
     "execution_count": 197,
     "metadata": {},
     "output_type": "execute_result"
    }
   ],
   "source": [
    "len(hybrid_encode(wack_list))"
   ]
  },
  {
   "cell_type": "markdown",
   "metadata": {},
   "source": [
    "### 4 bit save, woohoo!"
   ]
  },
  {
   "cell_type": "code",
   "execution_count": 192,
   "metadata": {},
   "outputs": [
    {
     "data": {
      "text/plain": [
       "([0, 1, 2, 1, 0, 2, 1, 2, 0], '')"
      ]
     },
     "execution_count": 192,
     "metadata": {},
     "output_type": "execute_result"
    }
   ],
   "source": [
    "decode_dyadic_with_repetition('00100001010101101001101011010010')"
   ]
  },
  {
   "cell_type": "code",
   "execution_count": 174,
   "metadata": {},
   "outputs": [
    {
     "data": {
      "text/plain": [
       "45"
      ]
     },
     "execution_count": 174,
     "metadata": {},
     "output_type": "execute_result"
    }
   ],
   "source": [
    "int('0101101',base=2)"
   ]
  },
  {
   "cell_type": "code",
   "execution_count": 195,
   "metadata": {},
   "outputs": [
    {
     "name": "stdout",
     "output_type": "stream",
     "text": [
      "1001000010101011010011010110100100010100010000000001000011010001011011000\n",
      "0010100010000000001000011010001011011000\n",
      "1000011010001011011000\n"
     ]
    },
    {
     "data": {
      "text/plain": [
       "True"
      ]
     },
     "execution_count": 195,
     "metadata": {},
     "output_type": "execute_result"
    }
   ],
   "source": [
    "hybrid_decode('1001000010101011010011010110100100010100010000000001000011010001011011000') == wack_list"
   ]
  }
 ],
 "metadata": {
  "kernelspec": {
   "display_name": "Python 3",
   "language": "python",
   "name": "python3"
  },
  "language_info": {
   "codemirror_mode": {
    "name": "ipython",
    "version": 3
   },
   "file_extension": ".py",
   "mimetype": "text/x-python",
   "name": "python",
   "nbconvert_exporter": "python",
   "pygments_lexer": "ipython3",
   "version": "3.8.3"
  }
 },
 "nbformat": 4,
 "nbformat_minor": 4
}
