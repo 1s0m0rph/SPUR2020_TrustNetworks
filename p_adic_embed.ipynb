{
 "cells": [
  {
   "cell_type": "code",
   "execution_count": 68,
   "metadata": {},
   "outputs": [],
   "source": [
    "import math"
   ]
  },
  {
   "cell_type": "code",
   "execution_count": 169,
   "metadata": {},
   "outputs": [],
   "source": [
    "def long_divide(a,b):\n",
    "\tq = a//b\n",
    "\tadiffr0 = a - q*b\n",
    "\tadiff0 = abs(adiffr0)\n",
    "\tadiffr1 = adiffr0 - b\n",
    "\tadiff1 = abs(adiffr1)\n",
    "\tif adiff0 < adiff1:\n",
    "\t\treturn q,adiffr0\n",
    "\telse:\n",
    "\t\treturn q+1,adiffr1\n",
    "\n",
    "def gcd(a,b,gcd_only=True):\n",
    "\tcarda = (1,0)\n",
    "\tcardb = (0,1)\n",
    "\n",
    "\tq,r = long_divide(a,b)\n",
    "\tcardc = (carda[0] - (q*cardb[0]),carda[1] - (q*cardb[1]))\n",
    "\tcarda = cardb\n",
    "\tcardb = cardc\n",
    "\ta = b\n",
    "\tb = r\n",
    "\n",
    "\twhile r != 0:\n",
    "\t\tq, r = long_divide(a, b)\n",
    "\t\tcardc = (carda[0]-(q*cardb[0]), carda[1]-(q*cardb[1]))\n",
    "\t\tcarda = cardb\n",
    "\t\tcardb = cardc\n",
    "\t\ta = b\n",
    "\t\tb = r\n",
    "\n",
    "\tif a < 0:\n",
    "\t\ta = -a\n",
    "\t\tcarda = (-carda[0],-carda[1])\n",
    "\n",
    "\tif gcd_only:\n",
    "\t\treturn a\n",
    "\telse:\n",
    "\t\treturn a,carda\n",
    "    \n",
    "def modi(a,n):\n",
    "\tif a < 0:\n",
    "\t\treturn n*(-(a // n)) + a\n",
    "\treturn a % n"
   ]
  },
  {
   "cell_type": "code",
   "execution_count": 233,
   "metadata": {},
   "outputs": [],
   "source": [
    "#TODO update this stuff so it actually matches the p-adic definition\n",
    "def tpat_inner(p,max_depth,pn=None,pd=None,depth=0,print_as=None):\n",
    "    if print_as is None:\n",
    "        print_as = 'frac'\n",
    "    s = ''\n",
    "    if depth > max_depth:\n",
    "        return s\n",
    "    if (pn is None):\n",
    "        pn = 1\n",
    "        pd = 1\n",
    "        \n",
    "        \n",
    "    \n",
    "    #add myself to s first\n",
    "    s += '\\t'*depth\n",
    "    #preprint the first node (we need this still so that the first level is right)\n",
    "    if depth != 0:\n",
    "        s += '['\n",
    "        if print_as == 'dec':\n",
    "            s += '.{:.3f}\\n'.format(pn/pd)\n",
    "        elif print_as == 'frac':\n",
    "            s += '.{}/{}\\n'.format(pn,pd)\n",
    "        elif print_as == 'exp':\n",
    "            s += '.({},{})\\n'.format(pn,depth)\n",
    "        elif  print_as == 'hex-exp':\n",
    "            s += '.({},{})\\n'.format(hex(pn)[2:],hex(depth)[2:])\n",
    "    \n",
    "    \n",
    "    #add on my children\n",
    "    #this is where the actual math is\n",
    "    d = pd*p\n",
    "    i = pn//p\n",
    "    r = (pn % p) - 1\n",
    "    lown = p*r + r + 1 + (p**2)*i\n",
    "    to_add = p if depth != 0 else p-1\n",
    "    n = lown\n",
    "    while to_add > 0:\n",
    "        if ((n % p) != 0):\n",
    "            s += tpat_inner(p,max_depth,pn=n,pd=d,depth=depth+1,print_as=print_as)\n",
    "            to_add -= 1\n",
    "        n += 1\n",
    "    \n",
    "    #close the parens\n",
    "    s += '\\t'*depth\n",
    "    s += ']\\n'\n",
    "    \n",
    "    return s\n",
    "\n",
    "def tex_p_adic_tree(p,max_depth,print_as=None):\n",
    "    if print_as is None:\n",
    "        print_as = 'frac'#options are dec, frac, exp, hex-exp\n",
    "    s = ''\n",
    "    s += '\\\\Tree[.1'\n",
    "    s += tpat_inner(p,max_depth,print_as=print_as)\n",
    "#     s = s.replace('(','{').replace(')','}')\n",
    "    print(s)"
   ]
  },
  {
   "cell_type": "code",
   "execution_count": 235,
   "metadata": {},
   "outputs": [
    {
     "name": "stdout",
     "output_type": "stream",
     "text": [
      "\\Tree[.1\t[.1/3\n",
      "\t\t[.1/9\n",
      "\t\t\t[.1/27\n",
      "\t\t\t\t[.1/81\n",
      "\t\t\t\t]\n",
      "\t\t\t\t[.2/81\n",
      "\t\t\t\t]\n",
      "\t\t\t\t[.4/81\n",
      "\t\t\t\t]\n",
      "\t\t\t]\n",
      "\t\t\t[.2/27\n",
      "\t\t\t\t[.5/81\n",
      "\t\t\t\t]\n",
      "\t\t\t\t[.7/81\n",
      "\t\t\t\t]\n",
      "\t\t\t\t[.8/81\n",
      "\t\t\t\t]\n",
      "\t\t\t]\n",
      "\t\t\t[.4/27\n",
      "\t\t\t\t[.10/81\n",
      "\t\t\t\t]\n",
      "\t\t\t\t[.11/81\n",
      "\t\t\t\t]\n",
      "\t\t\t\t[.13/81\n",
      "\t\t\t\t]\n",
      "\t\t\t]\n",
      "\t\t]\n",
      "\t\t[.2/9\n",
      "\t\t\t[.5/27\n",
      "\t\t\t\t[.14/81\n",
      "\t\t\t\t]\n",
      "\t\t\t\t[.16/81\n",
      "\t\t\t\t]\n",
      "\t\t\t\t[.17/81\n",
      "\t\t\t\t]\n",
      "\t\t\t]\n",
      "\t\t\t[.7/27\n",
      "\t\t\t\t[.19/81\n",
      "\t\t\t\t]\n",
      "\t\t\t\t[.20/81\n",
      "\t\t\t\t]\n",
      "\t\t\t\t[.22/81\n",
      "\t\t\t\t]\n",
      "\t\t\t]\n",
      "\t\t\t[.8/27\n",
      "\t\t\t\t[.23/81\n",
      "\t\t\t\t]\n",
      "\t\t\t\t[.25/81\n",
      "\t\t\t\t]\n",
      "\t\t\t\t[.26/81\n",
      "\t\t\t\t]\n",
      "\t\t\t]\n",
      "\t\t]\n",
      "\t\t[.4/9\n",
      "\t\t\t[.10/27\n",
      "\t\t\t\t[.28/81\n",
      "\t\t\t\t]\n",
      "\t\t\t\t[.29/81\n",
      "\t\t\t\t]\n",
      "\t\t\t\t[.31/81\n",
      "\t\t\t\t]\n",
      "\t\t\t]\n",
      "\t\t\t[.11/27\n",
      "\t\t\t\t[.32/81\n",
      "\t\t\t\t]\n",
      "\t\t\t\t[.34/81\n",
      "\t\t\t\t]\n",
      "\t\t\t\t[.35/81\n",
      "\t\t\t\t]\n",
      "\t\t\t]\n",
      "\t\t\t[.13/27\n",
      "\t\t\t\t[.37/81\n",
      "\t\t\t\t]\n",
      "\t\t\t\t[.38/81\n",
      "\t\t\t\t]\n",
      "\t\t\t\t[.40/81\n",
      "\t\t\t\t]\n",
      "\t\t\t]\n",
      "\t\t]\n",
      "\t]\n",
      "\t[.2/3\n",
      "\t\t[.5/9\n",
      "\t\t\t[.14/27\n",
      "\t\t\t\t[.41/81\n",
      "\t\t\t\t]\n",
      "\t\t\t\t[.43/81\n",
      "\t\t\t\t]\n",
      "\t\t\t\t[.44/81\n",
      "\t\t\t\t]\n",
      "\t\t\t]\n",
      "\t\t\t[.16/27\n",
      "\t\t\t\t[.46/81\n",
      "\t\t\t\t]\n",
      "\t\t\t\t[.47/81\n",
      "\t\t\t\t]\n",
      "\t\t\t\t[.49/81\n",
      "\t\t\t\t]\n",
      "\t\t\t]\n",
      "\t\t\t[.17/27\n",
      "\t\t\t\t[.50/81\n",
      "\t\t\t\t]\n",
      "\t\t\t\t[.52/81\n",
      "\t\t\t\t]\n",
      "\t\t\t\t[.53/81\n",
      "\t\t\t\t]\n",
      "\t\t\t]\n",
      "\t\t]\n",
      "\t\t[.7/9\n",
      "\t\t\t[.19/27\n",
      "\t\t\t\t[.55/81\n",
      "\t\t\t\t]\n",
      "\t\t\t\t[.56/81\n",
      "\t\t\t\t]\n",
      "\t\t\t\t[.58/81\n",
      "\t\t\t\t]\n",
      "\t\t\t]\n",
      "\t\t\t[.20/27\n",
      "\t\t\t\t[.59/81\n",
      "\t\t\t\t]\n",
      "\t\t\t\t[.61/81\n",
      "\t\t\t\t]\n",
      "\t\t\t\t[.62/81\n",
      "\t\t\t\t]\n",
      "\t\t\t]\n",
      "\t\t\t[.22/27\n",
      "\t\t\t\t[.64/81\n",
      "\t\t\t\t]\n",
      "\t\t\t\t[.65/81\n",
      "\t\t\t\t]\n",
      "\t\t\t\t[.67/81\n",
      "\t\t\t\t]\n",
      "\t\t\t]\n",
      "\t\t]\n",
      "\t\t[.8/9\n",
      "\t\t\t[.23/27\n",
      "\t\t\t\t[.68/81\n",
      "\t\t\t\t]\n",
      "\t\t\t\t[.70/81\n",
      "\t\t\t\t]\n",
      "\t\t\t\t[.71/81\n",
      "\t\t\t\t]\n",
      "\t\t\t]\n",
      "\t\t\t[.25/27\n",
      "\t\t\t\t[.73/81\n",
      "\t\t\t\t]\n",
      "\t\t\t\t[.74/81\n",
      "\t\t\t\t]\n",
      "\t\t\t\t[.76/81\n",
      "\t\t\t\t]\n",
      "\t\t\t]\n",
      "\t\t\t[.26/27\n",
      "\t\t\t\t[.77/81\n",
      "\t\t\t\t]\n",
      "\t\t\t\t[.79/81\n",
      "\t\t\t\t]\n",
      "\t\t\t\t[.80/81\n",
      "\t\t\t\t]\n",
      "\t\t\t]\n",
      "\t\t]\n",
      "\t]\n",
      "]\n",
      "\n"
     ]
    }
   ],
   "source": [
    "tex_p_adic_tree(3,4,print_as='frac')"
   ]
  },
  {
   "cell_type": "code",
   "execution_count": 1,
   "metadata": {},
   "outputs": [],
   "source": [
    "class p_adic:\n",
    "    \n",
    "    def __init__(self,p,a,n,reduce=True,print_as='exp'):\n",
    "        if reduce and (a == 0):\n",
    "            n = 0#zero should always look like this\n",
    "        while reduce and (a != 0) and ((a % p) == 0):\n",
    "            a //= p\n",
    "            n -= 1\n",
    "        \n",
    "        self.p = p\n",
    "        self.a = a\n",
    "        self.n = n\n",
    "        \n",
    "        self.print_as = print_as\n",
    "        \n",
    "        self.denom = p**n\n",
    "        \n",
    "        self.par = None\n",
    "        self.chld = None\n",
    "    \n",
    "    def __repr__(self):\n",
    "        if self.n == 0:\n",
    "            return str(self.a)\n",
    "        if self.print_as == 'exp':\n",
    "            return \"{}*{}^({})\".format(self.a,self.p,-self.n)\n",
    "        elif self.print_as == 'frac':\n",
    "            return \"{}/{}\".format(self.a,self.denom)\n",
    "    \n",
    "    def s(self,pm):\n",
    "#         if (self.a == 1) and (self.n == 0):#make 1 act like 1/2\n",
    "#             numerator = 0 if pm == -1 else 1\n",
    "#             return p_adic(self.p,numerator,0,print_as=self.print_as)\n",
    "        if (pm == -1) and (self.a <= 1):\n",
    "            return p_adic(self.p,-self.a,self.n,print_as=self.print_as)\n",
    "        if (pm == 1) and (self.a >= (self.denom-1)):\n",
    "            return p_adic(self.p,self.denom+self.a,self.n,print_as=self.print_as)#1/p^0 = 1/1 = 1\n",
    "        \n",
    "        if modi(self.a,self.p) != modi(-pm,self.p):\n",
    "            return p_adic(self.p,self.a + pm,self.n,print_as=self.print_as)\n",
    "        else:\n",
    "            return p_adic(self.p,self.a + (2*pm),self.n,reduce=False,print_as=self.print_as)\n",
    "    \n",
    "    def is_ancestor_of(self,other):\n",
    "        if other.p != self.p:\n",
    "            raise TypeError(\"{} and {} are not in the same ring\")\n",
    "        if other.n < self.n:\n",
    "            #this case is necessary to handle the \"1/3 is within the bounds of 2/9\" case\n",
    "            return False\n",
    "        if (other.n == self.n) and (other.a == self.a):\n",
    "            return True#I am my own ancestor\n",
    "        \n",
    "        cousin_prev = self.s(-1)\n",
    "        cousin_next = self.s(1)\n",
    "        \n",
    "        over_two_scale = self.p**(other.n - self.n)\n",
    "        mo = (cousin_prev.a + self.a)*over_two_scale\n",
    "        po = (cousin_next.a + self.a)*over_two_scale\n",
    "        cmp = other.a*2#double this instead of halving the cousins to keep things in ints\n",
    "        \n",
    "        return (mo < cmp) and (cmp < po)\n",
    "        \n",
    "    \n",
    "    def __lt__(self,other):\n",
    "        diff = self - other\n",
    "        return diff.a < 0\n",
    "    \n",
    "    def __le__(self,other):\n",
    "        return (self == other) or (self < other)\n",
    "    \n",
    "    def __ge__(self,other):\n",
    "        return not (self < other)\n",
    "    \n",
    "    def __eq__(self,other):\n",
    "        return (self.p == other.p) and (self.a == other.a) and (self.n == other.n)\n",
    "    \n",
    "    def __gt__(self,other):\n",
    "        return (self >= other) and (not (self == other))\n",
    "    \n",
    "    def __add__(self,other):\n",
    "        if other.p != self.p:\n",
    "            raise TypeError(\"{} and {} are not in the same ring\")\n",
    "        if self.n ==  other.n:\n",
    "            return p_adic(self.p,self.a+other.a,self.n,print_as=self.print_as)\n",
    "        elif self.n < other.n:\n",
    "            return p_adic(self.p,((self.p**(other.n - self.n))*self.a)+other.a,\n",
    "                          other.n,print_as=self.print_as)\n",
    "        else:\n",
    "            return p_adic(self.p,self.a+(other.a*(self.p**(self.n - other.n))),\n",
    "                          self.n,print_as=self.print_as)\n",
    "    \n",
    "    def __abs__(self):\n",
    "        return p_adic(self.p,abs(self.a),self.n,print_as=self.print_as)\n",
    "    \n",
    "    def __neg__(self):\n",
    "        return p_adic(self.p,-self.a,self.n,print_as=self.print_as)\n",
    "    \n",
    "    def __sub__(self,other):\n",
    "        return self + (-other)\n",
    "    \n",
    "    def __mul__(self,other):\n",
    "        return p_adic(self.p,self.a*other.a,self.n+other.n,print_as=self.print_as)\n",
    "    \n",
    "    def parent(self):\n",
    "        if self.par is not None:\n",
    "            return self.par\n",
    "        opt1 = (self.a - (self.a % self.p))//self.p#go down\n",
    "        if (opt1 % self.p) != 0:\n",
    "            return p_adic(self.p,opt1,self.n-1,print_as=self.print_as)\n",
    "        opt2 = (self.a + (self.p - (self.a % self.p)))#go up\n",
    "        self.par = p_adic(self.p,opt2//self.p,self.n-1,print_as=self.print_as)\n",
    "        return self.par\n",
    "    \n",
    "    def children(self):\n",
    "        if self.chld is not None:\n",
    "            return self.chld\n",
    "        cousin_prev = self.s(-1)\n",
    "        ch_denom = self.n+1\n",
    "        ch1_numerator = int(math.ceil((cousin_prev.a + self.a)*self.p/2))\n",
    "        #just brute-force the actual start since it's only like a O(p) calculation\n",
    "        ch1 = p_adic(self.p,ch1_numerator,ch_denom,print_as=self.print_as)\n",
    "        ch1inc = p_adic(self.p,2*ch1_numerator,ch_denom,print_as=self.print_as)\n",
    "        double_midpoint = self + cousin_prev\n",
    "        while ch1inc <= double_midpoint:\n",
    "            ch1_numerator += 1\n",
    "            ch1 = p_adic(self.p,ch1_numerator,ch_denom,print_as=self.print_as)\n",
    "            ch1inc = p_adic(self.p,2*ch1_numerator,ch_denom,print_as=self.print_as)\n",
    "        children = [ch1]\n",
    "        ch_num = ch1_numerator + 1\n",
    "        ch_inc = ch_num*2\n",
    "        double_upper_midpoint = self.p*(self.a + self.s(1).a)\n",
    "        ch_denom_val = self.p**(ch_denom)\n",
    "        while (ch_num < ch_denom_val) and (ch_inc < double_upper_midpoint):\n",
    "            if (ch_num % self.p) != 0:\n",
    "                children.append(p_adic(self.p,ch_num,ch_denom,print_as=self.print_as))\n",
    "            ch_num += 1\n",
    "            ch_inc += 2\n",
    "        \n",
    "        self.chld = children\n",
    "        return self.chld\n",
    "    \n",
    "    def greedy_search(self,target):\n",
    "#         print(self)\n",
    "        if self == target:\n",
    "#             print(\"WE HAVE ARRIVED\")\n",
    "            return True\n",
    "        \n",
    "        go_down = self.is_ancestor_of(target)\n",
    "        \n",
    "        if not go_down:\n",
    "            #then go up!\n",
    "            return (self.parent()).greedy_search(target)\n",
    "        \n",
    "        #otherwise it must be down!\n",
    "        goto_ch = None\n",
    "        goto_dist = p_adic(self.p,1,0,print_as=self.print_as)#biggest possible distance is 1\n",
    "        for ch in self.children():\n",
    "            dist_this = abs(ch - target)\n",
    "            if dist_this < goto_dist:\n",
    "                goto_ch = ch\n",
    "                goto_dist = dist_this\n",
    "        \n",
    "        return goto_ch.greedy_search(target)"
   ]
  },
  {
   "cell_type": "code",
   "execution_count": 360,
   "metadata": {},
   "outputs": [
    {
     "name": "stdout",
     "output_type": "stream",
     "text": [
      "1 [1/3, 2/3]\n"
     ]
    }
   ],
   "source": [
    "y = p_adic(5,(5**2)-1,2,print_as='frac')\n",
    "x = p_adic(3,1,0,print_as='frac')\n",
    "print(x,x.children())"
   ]
  },
  {
   "cell_type": "code",
   "execution_count": 225,
   "metadata": {},
   "outputs": [
    {
     "data": {
      "text/plain": [
       "[0/3, 1/3]"
      ]
     },
     "execution_count": 225,
     "metadata": {},
     "output_type": "execute_result"
    }
   ],
   "source": [
    "x.children()"
   ]
  },
  {
   "cell_type": "code",
   "execution_count": 158,
   "metadata": {},
   "outputs": [
    {
     "data": {
      "text/plain": [
       "4/9"
      ]
     },
     "execution_count": 158,
     "metadata": {},
     "output_type": "execute_result"
    }
   ],
   "source": [
    "x.s(1)"
   ]
  },
  {
   "cell_type": "code",
   "execution_count": 198,
   "metadata": {},
   "outputs": [
    {
     "data": {
      "text/plain": [
       "(26/81, 28/81)"
      ]
     },
     "execution_count": 198,
     "metadata": {},
     "output_type": "execute_result"
    }
   ],
   "source": [
    "x = p_adic(3,26,4,print_as='frac')\n",
    "y = p_adic(3,28,4,print_as='frac')\n",
    "x,y"
   ]
  },
  {
   "cell_type": "code",
   "execution_count": 199,
   "metadata": {},
   "outputs": [
    {
     "name": "stdout",
     "output_type": "stream",
     "text": [
      "26/81\n",
      "8/27\n",
      "2/9\n",
      "1/3\n",
      "4/9\n",
      "10/27\n",
      "28/81\n",
      "WE HAVE ARRIVED\n"
     ]
    },
    {
     "data": {
      "text/plain": [
       "True"
      ]
     },
     "execution_count": 199,
     "metadata": {},
     "output_type": "execute_result"
    }
   ],
   "source": [
    "x.greedy_search(y)"
   ]
  },
  {
   "cell_type": "code",
   "execution_count": 227,
   "metadata": {},
   "outputs": [
    {
     "data": {
      "text/plain": [
       "(40/81, 41/81)"
      ]
     },
     "execution_count": 227,
     "metadata": {},
     "output_type": "execute_result"
    }
   ],
   "source": [
    "x = p_adic(3,40,4,print_as='frac')\n",
    "y = p_adic(3,41,4,print_as='frac')\n",
    "x,y"
   ]
  },
  {
   "cell_type": "code",
   "execution_count": 228,
   "metadata": {},
   "outputs": [
    {
     "name": "stdout",
     "output_type": "stream",
     "text": [
      "40/81\n",
      "13/27\n",
      "4/9\n",
      "1/3\n",
      "1\n",
      "2/3\n",
      "5/9\n",
      "14/27\n",
      "41/81\n",
      "WE HAVE ARRIVED\n"
     ]
    },
    {
     "data": {
      "text/plain": [
       "True"
      ]
     },
     "execution_count": 228,
     "metadata": {},
     "output_type": "execute_result"
    }
   ],
   "source": [
    "x.greedy_search(y)"
   ]
  },
  {
   "cell_type": "code",
   "execution_count": 362,
   "metadata": {},
   "outputs": [
    {
     "data": {
      "text/plain": [
       "(1, 1/7)"
      ]
     },
     "execution_count": 362,
     "metadata": {},
     "output_type": "execute_result"
    }
   ],
   "source": [
    "p = 7\n",
    "n = 1\n",
    "x = p_adic(p,1,0,print_as='frac')\n",
    "y = p_adic(p,1,n,print_as='frac')\n",
    "x,y"
   ]
  },
  {
   "cell_type": "code",
   "execution_count": 363,
   "metadata": {},
   "outputs": [
    {
     "data": {
      "text/plain": [
       "[1/7, 2/7, 3/7, 4/7, 5/7, 6/7]"
      ]
     },
     "execution_count": 363,
     "metadata": {},
     "output_type": "execute_result"
    }
   ],
   "source": [
    "x.children()"
   ]
  },
  {
   "cell_type": "code",
   "execution_count": 364,
   "metadata": {},
   "outputs": [
    {
     "name": "stdout",
     "output_type": "stream",
     "text": [
      "1\n",
      "1/7\n",
      "WE HAVE ARRIVED\n"
     ]
    },
    {
     "data": {
      "text/plain": [
       "True"
      ]
     },
     "execution_count": 364,
     "metadata": {},
     "output_type": "execute_result"
    }
   ],
   "source": [
    "x.greedy_search(y)"
   ]
  },
  {
   "cell_type": "code",
   "execution_count": 321,
   "metadata": {},
   "outputs": [
    {
     "data": {
      "text/plain": [
       "(1562/3125, 1563/3125)"
      ]
     },
     "execution_count": 321,
     "metadata": {},
     "output_type": "execute_result"
    }
   ],
   "source": [
    "x = p_adic(5,1562,5,print_as='frac')\n",
    "y = p_adic(5,1563,5,print_as='frac')\n",
    "x,y"
   ]
  },
  {
   "cell_type": "code",
   "execution_count": 322,
   "metadata": {},
   "outputs": [
    {
     "name": "stdout",
     "output_type": "stream",
     "text": [
      "1562/3125\n",
      "312/625\n",
      "62/125\n",
      "12/25\n",
      "2/5\n",
      "1\n",
      "3/5\n",
      "13/25\n",
      "63/125\n",
      "313/625\n",
      "1563/3125\n",
      "WE HAVE ARRIVED\n"
     ]
    },
    {
     "data": {
      "text/plain": [
       "True"
      ]
     },
     "execution_count": 322,
     "metadata": {},
     "output_type": "execute_result"
    }
   ],
   "source": [
    "x.greedy_search(y)"
   ]
  },
  {
   "cell_type": "markdown",
   "metadata": {},
   "source": [
    "More generally, the worst (i.e. going through 1) split is:"
   ]
  },
  {
   "cell_type": "code",
   "execution_count": 323,
   "metadata": {},
   "outputs": [
    {
     "data": {
      "text/plain": [
       "(1007996950224/2015993900449, 1007996950225/2015993900449)"
      ]
     },
     "execution_count": 323,
     "metadata": {},
     "output_type": "execute_result"
    }
   ],
   "source": [
    "p = 17\n",
    "n = 10\n",
    "midp = (p**n) >> 1\n",
    "x = p_adic(p,midp,n,print_as='frac')\n",
    "y = p_adic(p,midp+1,n,print_as='frac')\n",
    "x,y"
   ]
  },
  {
   "cell_type": "code",
   "execution_count": 324,
   "metadata": {},
   "outputs": [
    {
     "name": "stdout",
     "output_type": "stream",
     "text": [
      "1007996950224/2015993900449\n",
      "59293938248/118587876497\n",
      "3487878720/6975757441\n",
      "205169336/410338673\n",
      "12068784/24137569\n",
      "709928/1419857\n",
      "41760/83521\n",
      "2456/4913\n",
      "144/289\n",
      "8/17\n",
      "1\n",
      "9/17\n",
      "145/289\n",
      "2457/4913\n",
      "41761/83521\n",
      "709929/1419857\n",
      "12068785/24137569\n",
      "205169337/410338673\n",
      "3487878721/6975757441\n",
      "59293938249/118587876497\n",
      "1007996950225/2015993900449\n",
      "WE HAVE ARRIVED\n"
     ]
    },
    {
     "data": {
      "text/plain": [
       "True"
      ]
     },
     "execution_count": 324,
     "metadata": {},
     "output_type": "execute_result"
    }
   ],
   "source": [
    "x.greedy_search(y)"
   ]
  },
  {
   "cell_type": "markdown",
   "metadata": {},
   "source": [
    "OR"
   ]
  },
  {
   "cell_type": "code",
   "execution_count": 325,
   "metadata": {},
   "outputs": [
    {
     "data": {
      "text/plain": [
       "(1/2015993900449, 2015993900448/2015993900449)"
      ]
     },
     "execution_count": 325,
     "metadata": {},
     "output_type": "execute_result"
    }
   ],
   "source": [
    "p = 17\n",
    "n = 10\n",
    "x = p_adic(p,1,n,print_as='frac')\n",
    "y = p_adic(p,(p**n)-1,n,print_as='frac')\n",
    "x,y"
   ]
  },
  {
   "cell_type": "code",
   "execution_count": 326,
   "metadata": {},
   "outputs": [
    {
     "name": "stdout",
     "output_type": "stream",
     "text": [
      "1/2015993900449\n",
      "1/118587876497\n",
      "1/6975757441\n",
      "1/410338673\n",
      "1/24137569\n",
      "1/1419857\n",
      "1/83521\n",
      "1/4913\n",
      "1/289\n",
      "1/17\n",
      "1\n",
      "16/17\n",
      "288/289\n",
      "4912/4913\n",
      "83520/83521\n",
      "1419856/1419857\n",
      "24137568/24137569\n",
      "410338672/410338673\n",
      "6975757440/6975757441\n",
      "118587876496/118587876497\n",
      "2015993900448/2015993900449\n",
      "WE HAVE ARRIVED\n"
     ]
    },
    {
     "data": {
      "text/plain": [
       "True"
      ]
     },
     "execution_count": 326,
     "metadata": {},
     "output_type": "execute_result"
    }
   ],
   "source": [
    "x.greedy_search(y)"
   ]
  },
  {
   "cell_type": "markdown",
   "metadata": {},
   "source": [
    "Let's do an all-pairs trial of this"
   ]
  },
  {
   "cell_type": "code",
   "execution_count": 368,
   "metadata": {},
   "outputs": [],
   "source": [
    "p = 7\n",
    "max_n = 4#7^8 pairs, so ~5 million checks\n",
    "for n1 in range(max_n):\n",
    "    denom1 = p**n1    \n",
    "    maxnum1 = (denom1 - 1) if n1 != 0 else 1\n",
    "    for num1 in range(1,maxnum1+1):\n",
    "        x_1 = p_adic(p,num1,n1)\n",
    "        for n2 in range(max_n):\n",
    "            denom2 = p**n2\n",
    "            maxnum2 = (denom2 - 1) if n2 != 0 else 1\n",
    "            for num2 in range(1,maxnum2+1):\n",
    "                x_2 = p_adic(p,num2,n2)\n",
    "#                 print(x_1,x_2)\n",
    "                assert(x_1.greedy_search(x_2))"
   ]
  },
  {
   "cell_type": "markdown",
   "metadata": {},
   "source": [
    "# YEET"
   ]
  }
 ],
 "metadata": {
  "kernelspec": {
   "display_name": "Python 3",
   "language": "python",
   "name": "python3"
  },
  "language_info": {
   "codemirror_mode": {
    "name": "ipython",
    "version": 3
   },
   "file_extension": ".py",
   "mimetype": "text/x-python",
   "name": "python",
   "nbconvert_exporter": "python",
   "pygments_lexer": "ipython3",
   "version": "3.8.3"
  }
 },
 "nbformat": 4,
 "nbformat_minor": 4
}
